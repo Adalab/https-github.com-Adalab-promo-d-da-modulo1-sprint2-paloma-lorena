{
 "cells": [
  {
   "attachments": {},
   "cell_type": "markdown",
   "metadata": {},
   "source": [
    "# PAIR PROGRAMMINF FUNCIONES - ARGUMENTOS"
   ]
  },
  {
   "attachments": {},
   "cell_type": "markdown",
   "metadata": {},
   "source": [
    "1 - Vamos a crear una \"Calculadora de puntos\". \n",
    "\n",
    "Tenéis que escribir una calculadora que reciba cadenas de caracteres como entrada. Los puntos representarán el número de la ecuación. Habrá puntos en un lado, un operador, y puntos de nuevo después del oparador. Los puntos y el operador estarán separados por un espacio.\n",
    "\n",
    "Aquí os dejamos los operadores válidos:\n",
    "- Suma\n",
    "- Resta\n",
    "- Multiplicación\n",
    "- División entera\n",
    "\n",
    "Vuestro trabajo:\n",
    "\n",
    "Tendréis que devolver un string que contenga puntos, tantos como devuelva la ecuación. Si el resultado es 0, devuelve la cadena vacía. Cuando se trata de una resta, el primer número siempre será mayor o igual que el segundo.\n",
    "```\n",
    "Probad la función con los siguientes casos: \n",
    "\"..... + ...............\" => \"....................\"\n",
    "\"..... - ...\" => \"..\"\n",
    "\"..... * ...\" => \"...............\"\n",
    "\"..... // ..\" => \"..\"\n",
    "\"..... // ..\" => \"\"\n",
    "\".. - ..\" => \"\"\n",
    "```"
   ]
  },
  {
   "cell_type": "code",
   "execution_count": 3,
   "metadata": {},
   "outputs": [],
   "source": [
    "# creamos la funcion\n",
    "def calculadora(cadena1, operador, cadena2):\n",
    "    if operador == 'suma' or operador == '+':\n",
    "        return cadena1 + cadena2\n",
    "    elif operador == 'resta' or operador == '-':\n",
    "        resta = len(cadena1) - len(cadena2)\n",
    "        if resta < 0:\n",
    "            return 'inválido'\n",
    "        elif resta == 0:\n",
    "            return '\"\"'\n",
    "        else:\n",
    "            return '.' * resta\n",
    "    elif operador == 'multiplicacion' or operador == '*':\n",
    "        return cadena1 * len(cadena2)\n",
    "    elif operador == 'division entera' or operador == '//': \n",
    "        division = len(cadena1) // len(cadena2)\n",
    "        if division < 0:\n",
    "            return 'inválido'\n",
    "        elif division == 0:\n",
    "            return '\"\"'\n",
    "        else:\n",
    "            total = '.' * division\n",
    "            return total"
   ]
  },
  {
   "cell_type": "code",
   "execution_count": 4,
   "metadata": {},
   "outputs": [
    {
     "name": "stdout",
     "output_type": "stream",
     "text": [
      "....................\n",
      "..\n",
      "...............\n",
      "..\n",
      "\"\"\n",
      "\"\"\n"
     ]
    }
   ],
   "source": [
    "print(calculadora('.....', '+', '...............'))\n",
    "print(calculadora('.....', '-', '...'))\n",
    "print(calculadora('.....', '*', '...'))\n",
    "print(calculadora('.....', '//', '..'))\n",
    "print(calculadora('.', '//', '..'))\n",
    "# No entendemos por qué este no aparece\n",
    "print(calculadora('..', '-', '..'))\n"
   ]
  },
  {
   "attachments": {},
   "cell_type": "markdown",
   "metadata": {},
   "source": [
    "2 - Te despides de tu mejor amigo, \"Nos vemos el próximo año\".\n",
    "\n",
    "Vuestro trabajo: Dado un año, encuentra el próximo cumpleaños o el año más cercano en el que verás a tu mejor amigo.\n",
    "Condiciones\n",
    "- Año siempre positivo.\n",
    "- El siguiente año que le felicites a tu mejor amigo no puede tener ningún dígito repetido.\n",
    "```\n",
    "Probad la función con los siguientes casos:\n",
    "\n",
    "7712 ==> El siguiente año que felicitarás a tu amigo será el 7801. \n",
    "\n",
    "Por que es el siguiente año en el que no hay ningún dígito repetido. \n",
    "1001 => 1023 \n",
    "1123 => 1203\n",
    "2001 => 2013\n",
    "```"
   ]
  },
  {
   "cell_type": "code",
   "execution_count": 1,
   "metadata": {},
   "outputs": [],
   "source": [
    "# definimos la funcion\n",
    "def amigos(año):\n",
    "    año += 1\n",
    "    año = str(año)\n",
    "\n",
    "    if len(set(año)) == 4:\n",
    "        return año\n",
    "    else:\n",
    "        año = int(año)\n",
    "        return amigos(año)"
   ]
  },
  {
   "cell_type": "code",
   "execution_count": 2,
   "metadata": {},
   "outputs": [
    {
     "name": "stdout",
     "output_type": "stream",
     "text": [
      "7801\n",
      "1023\n",
      "1203\n",
      "2013\n"
     ]
    }
   ],
   "source": [
    "print(amigos(7712))\n",
    "print(amigos(1001))\n",
    "print(amigos(1123))\n",
    "print(amigos(2001))"
   ]
  },
  {
   "attachments": {},
   "cell_type": "markdown",
   "metadata": {},
   "source": [
    "3 - Tenéis que crear un función que chequee la vida de un evaporador que contiene un gas.\n",
    "\n",
    "Conocemos el contenido del evaporador (contenido en ml), el porcentaje de gas que se pierde cada día y el umbral en porcentaje a partir del cual el evaporador deja de ser útil. Todos los números serán estrictamente positivos.\n",
    "\n",
    "⚠️ Nota: el contenido no es, de hecho, necesario en el cuerpo de la función, podéis utilizarlo o no.\n",
    "```\n",
    "Probad con los siguientes casos: \n",
    "\n",
    "10, 10, 5 => 29\n",
    "\n",
    "10, 10, 10 = > 22\n",
    "```"
   ]
  },
  {
   "cell_type": "code",
   "execution_count": null,
   "metadata": {},
   "outputs": [],
   "source": [
    "# evaporador\n",
    "# tres parámetors : contenido(ml), porcentaje de gas perdido al dia, umbral EN PORCENTAJE evaporador no funciona"
   ]
  },
  {
   "cell_type": "code",
   "execution_count": 50,
   "metadata": {},
   "outputs": [],
   "source": [
    "def evaporador(contenido, perdida, umbral):\n",
    "    umbral_total = (contenido * umbral /100)\n",
    "    dias = 0\n",
    "    while contenido >= umbral_total:\n",
    "        contenido -= ((contenido * perdida) / 100)\n",
    "        dias +=1\n",
    "\n",
    "    return dias\n"
   ]
  },
  {
   "cell_type": "code",
   "execution_count": 52,
   "metadata": {},
   "outputs": [
    {
     "name": "stdout",
     "output_type": "stream",
     "text": [
      "29\n",
      "22\n"
     ]
    }
   ],
   "source": [
    "print(evaporador(10, 10, 5))\n",
    "print(evaporador(10, 10, 10))"
   ]
  },
  {
   "attachments": {},
   "cell_type": "markdown",
   "metadata": {},
   "source": [
    "4 - Definid una función que tome como argumento un entero y devuelva True o False dependiendo de si el número es primo o no.\n",
    "\n",
    "Según la Wikipedia, un número primo es un número natural mayor que 1 que no tiene divisores positivos más que 1 y él mismo.\n",
    "```\n",
    "Probad la función con los siguientes números: \n",
    "\n",
    "0 => False\n",
    "2 => True\n",
    "73 => True\n",
    "-1 => False\n",
    "5099 => True\n",
    "```"
   ]
  },
  {
   "cell_type": "code",
   "execution_count": 31,
   "metadata": {},
   "outputs": [],
   "source": [
    "def num_primo(num):\n",
    "    if num <= 2:\n",
    "        return False\n",
    "    for n in range(2, num):\n",
    "        if num % n == 0:\n",
    "            return False\n",
    "        else:\n",
    "            return True"
   ]
  },
  {
   "cell_type": "code",
   "execution_count": 32,
   "metadata": {},
   "outputs": [
    {
     "name": "stdout",
     "output_type": "stream",
     "text": [
      "False\n",
      "False\n",
      "True\n",
      "False\n",
      "True\n"
     ]
    }
   ],
   "source": [
    "print(num_primo(0))\n",
    "print(num_primo(2))\n",
    "print(num_primo(73))\n",
    "print(num_primo(-1))\n",
    "print(num_primo(5099))"
   ]
  },
  {
   "attachments": {},
   "cell_type": "markdown",
   "metadata": {},
   "source": [
    "5 - Probablemente conozcais el sistema de \"me gusta\" de Facebook y otras páginas. La gente puede dar \"me gusta\" a las publicaciones del blog, a las imágenes o a otros elementos. \n",
    "\n",
    "Queremos crear el texto que debe mostrarse junto a dicho elemento.\n",
    "\n",
    "Cread una función que toma una lista que contiene los nombres de las personas a las que les gusta un artículo. Debe devolver el texto que se muestra en los ejemplos:\n",
    "```\n",
    "Probad los siguientes ejemplos: \n",
    "\n",
    "[]                              -->  \"A nadie le gusta esto\"\n",
    "[\"Paola\"]                       -->  \"A Paola le gusta esto\"\n",
    "[\"Jacoba\", \"Alex\"]               -->  \"A Jacoba y Alex les gusta esto\"\n",
    "[\"Maria\", \"Juana\", \"Lola\"]         -->  \"A Maria, Juana y Lola les gusta esto\"\n",
    "[\"Alex\", \"Jacoba\", \"Lola\", \"Carmen\"]-->  \"A Alex, Jacob ay 2 más les gusta esto\"\n",
    "[\"Alex\", \"Jacoba\", \"Lola\", \"Carmen\", \"Mariana\"]-->  \"A Alex, Jacoba y 3 más les gusta esto\"\n",
    "```\n",
    "Nota: Para 4 o más nombres, el número en \"y otros 2\" simplemente aumenta"
   ]
  },
  {
   "cell_type": "code",
   "execution_count": 40,
   "metadata": {},
   "outputs": [],
   "source": [
    "def me_gusta(*lista):\n",
    "    if len(lista) == 0:\n",
    "        return \"A nadie le gusta esto\"\n",
    "    elif len(lista) == 1:\n",
    "        return f'A {lista[0]} le gusta esto'\n",
    "    elif len(lista) == 2:\n",
    "        return f'A {lista[0]} y a {lista[1]} les gusta esto'\n",
    "    elif len(lista) == 3:\n",
    "        return f'A {lista[0]}, {lista[1]} y {lista[2]} les gusta esto'\n",
    "    else:\n",
    "        return f'A {lista[0]}, {lista[1]} y a {len(lista)-2} personas más les gusta esto'\n"
   ]
  },
  {
   "cell_type": "code",
   "execution_count": 38,
   "metadata": {},
   "outputs": [],
   "source": [
    "lista1 = []  \n",
    "lista2 = [\"Paola\"]\n",
    "lista3 = [\"Jacoba\", \"Alex\"]\n",
    "lista4 = [\"Maria\", \"Juana\", \"Lola\"]  \n",
    "lista5 = [\"Alex\", \"Jacoba\", \"Lola\", \"Carmen\"]\n",
    "lista6 = [\"Alex\", \"Jacoba\", \"Lola\", \"Carmen\", \"Mariana\"]"
   ]
  },
  {
   "cell_type": "code",
   "execution_count": 41,
   "metadata": {},
   "outputs": [
    {
     "name": "stdout",
     "output_type": "stream",
     "text": [
      "A nadie le gusta esto\n",
      "A Paola le gusta esto\n",
      "A Jacoba y a Alex les gusta esto\n",
      "A Maria, Juana y Lola les gusta esto\n",
      "A Alex, Jacoba y a 2 personas más les gusta esto\n",
      "A Alex, Jacoba y a 3 personas más les gusta esto\n"
     ]
    }
   ],
   "source": [
    "print(me_gusta(*lista1))\n",
    "print(me_gusta(*lista2))\n",
    "print(me_gusta(*lista3))\n",
    "print(me_gusta(*lista4))\n",
    "print(me_gusta(*lista5))\n",
    "print(me_gusta(*lista6))"
   ]
  }
 ],
 "metadata": {
  "kernelspec": {
   "display_name": "adalabenv",
   "language": "python",
   "name": "python3"
  },
  "language_info": {
   "codemirror_mode": {
    "name": "ipython",
    "version": 3
   },
   "file_extension": ".py",
   "mimetype": "text/x-python",
   "name": "python",
   "nbconvert_exporter": "python",
   "pygments_lexer": "ipython3",
   "version": "3.10.9"
  },
  "orig_nbformat": 4
 },
 "nbformat": 4,
 "nbformat_minor": 2
}
