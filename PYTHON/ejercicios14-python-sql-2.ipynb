{
 "cells": [
  {
   "attachments": {},
   "cell_type": "markdown",
   "metadata": {},
   "source": [
    "# PYTHON Y SQL 2"
   ]
  },
  {
   "attachments": {},
   "cell_type": "markdown",
   "metadata": {},
   "source": [
    "Objetivos\n",
    "Durante la clase de pair programming de creación de tablas de SQL nos creamos nuestra primerita BBDD desde cero en Workbench. En el ejercicio de hoy volveremos a crear esa misma BBDD, pero esta vez desde Python.\n",
    "\n",
    "📌 NOTA Utilizad el nombre de la BBDD de mi_primerita_BBDD_Python\n",
    "\n",
    "📌 NOTA Cuando creeis las distintas tablas de vuestra BBDD repetereis la mismas lineas de código una y otra vez. Para evitar esto, crearos una función que nos sirva para crear tablas independientemente del contenido de la tabla. La función recibirá como parámetros:\n",
    "Contraseña de la conexión al servidor.\n",
    "Query para crear la tabla."
   ]
  },
  {
   "attachments": {},
   "cell_type": "markdown",
   "metadata": {},
   "source": [
    "A modo de recap de lo que contenía la BBDD:\n",
    "- Tabla Zapatillas: tiene 4 columnas: id, modelo, color, talla con las siguientes características:\n",
    "    - idZapatillas: es una clave primaria de tipo int, autoincremental y no nula.\n",
    "    - Modelo: es una cadena de caracteres de longitud máxima de 45 caracteres, no nula.\n",
    "    - Color: es una cadena de caracteres de longitud máxima de 45 caracteres, no nula.\n",
    "    - Talla: es entero, no nula."
   ]
  },
  {
   "attachments": {},
   "cell_type": "markdown",
   "metadata": {},
   "source": [
    "- Tabla Clientes: tiene 9 columnas idcliente, nombre, numero_telefono, email, direccion, ciudad, provincia, pais, codigo_postal con las siguientes características:\n",
    "    - idCliente: es una clave primaria de tipo int, autoincremental y no nula.\n",
    "    - Nombre: es una cadena de caracteres de longitud máxima de 45 caracteres, no nula.\n",
    "    - Numero_telefono: es un entero de longitud máxima de 9 caracteres, no nula.\n",
    "    - Email: es una cadena de caracteres de longitud máxima de 45 caracteres, no nula.\n",
    "    - Direccion: es una cadena de caracteres de longitud máxima de 45 caracteres, no nula.\n",
    "    - Ciudad: es una cadena de caracteres de longitud máxima de 45 caracteres, puede ser nula.\n",
    "    - Provincia: es una cadena de caracteres de longitud máxima de 45 caracteres, no nula.\n",
    "    - Pais: es una cadena de caracteres de longitud máxima de 45 caracteres, no nula.\n",
    "    - Codigo_postal: entero de máxima longitud 9, no nula."
   ]
  },
  {
   "attachments": {},
   "cell_type": "markdown",
   "metadata": {},
   "source": [
    "\n",
    "- Tabla Empleados: tiene 5 columnas idEmpleado, nombre, tienda, salario, fecha_incorporacion con las siguientes características:\n",
    "    - idEmpleado: es una clave primaria de tipo int, autoincremental y no nula.\n",
    "    - Nombre: es una cadena de caracteres de longitud máxima de 45 caracteres, no nula.\n",
    "    - Tienda: es una cadena de caracteres de longitud máxima de 45 caracteres, no nula.\n",
    "    - salario: es decimal, puede ser nula.\n",
    "    - fecha_incorporacion: es una columna de tipo date, no nula."
   ]
  },
  {
   "attachments": {},
   "cell_type": "markdown",
   "metadata": {},
   "source": [
    "- Tabla Facturas: tiene 5 columnas idFactura, idEmpleado, idCliente, fecha, total con las siguientes características:\n",
    "    - idFactura: es una clave primaria de tipo int, autoincremental y no nula.\n",
    "    - idEmpleado: es una clave foránea de tipo int, no nula.\n",
    "    - idCliente: es una clave foránea de tipo int, no nula.\n",
    "    - idZapatilla: es una clave foránea de tipo int, no nula\n",
    "    - Fecha: es una columna de tipo date, no nula.\n",
    "    - Total: es decimal, no nula."
   ]
  },
  {
   "attachments": {},
   "cell_type": "markdown",
   "metadata": {},
   "source": [
    "📌 NOTA En esta última tabla tendremos que incluir todos los CONSTRAINTnecesarios para establecer los relaciones entre las tablas, donde tendremos que especificar:\n",
    "- Foreign Key\n",
    "- References"
   ]
  },
  {
   "cell_type": "code",
   "execution_count": 1,
   "metadata": {},
   "outputs": [
    {
     "name": "stdout",
     "output_type": "stream",
     "text": [
      "CMySQLCursor: CREATE DATABASE mi_primerita_BBDD_Python\n"
     ]
    }
   ],
   "source": [
    "# creamos la base de datos\n",
    "import mysql.connector\n",
    "\n",
    "cnx = mysql.connector.connect(user='root', password='AlumnaAdalab',\n",
    "                              host='127.0.0.1')\n",
    "\n",
    "\n",
    "mycursor = cnx.cursor()\n",
    "\n",
    "try:\n",
    "    mycursor.execute(\"CREATE DATABASE mi_primerita_BBDD_Python\")\n",
    "    print(mycursor)\n",
    "except mysql.connector.Error as err:\n",
    "    print(err)\n",
    "    print(\"Error Code:\", err.errno)\n",
    "    print(\"SQLSTATE\", err.sqlstate)\n",
    "    print(\"Message\", err.msg)"
   ]
  },
  {
   "attachments": {},
   "cell_type": "markdown",
   "metadata": {},
   "source": [
    "📌 NOTA Cuando creeis las distintas tablas de vuestra BBDD repetereis la mismas lineas de código una y otra vez. Para evitar esto, crearos una función que nos sirva para crear tablas independientemente del contenido de la tabla. La función recibirá como parámetros:\n",
    "Contraseña de la conexión al servidor.\n",
    "Query para crear la tabla."
   ]
  },
  {
   "cell_type": "code",
   "execution_count": 9,
   "metadata": {},
   "outputs": [],
   "source": [
    "def crear_tabla(contraseña, query_crear):\n",
    "    import mysql.connector\n",
    "    cnx = mysql.connector.connect(user='root', password= contraseña,\n",
    "                                    host='127.0.0.1', database = 'mi_primerita_BBDD_Python')\n",
    "    mycursor = cnx.cursor()\n",
    "    \n",
    "    try:\n",
    "        mycursor.execute(query_crear)\n",
    "        print(mycursor)\n",
    "    except mysql.connector.Error as err:\n",
    "        print(err)\n",
    "        print(\"Error Code:\", err.errno)\n",
    "        print(\"SQLSTATE\", err.sqlstate)\n",
    "        print(\"Message\", err.msg)\n",
    "    return mycursor\n"
   ]
  },
  {
   "cell_type": "code",
   "execution_count": 7,
   "metadata": {},
   "outputs": [],
   "source": [
    "query1= 'CREATE TABLE zapatillas (id_zapatillas INT AUTO_INCREMENT NOT NULL PRIMARY KEY, modelo VARCHAR(45) NOT NULL, color VARCHAR(45) NOT NULL, talla INT NOT NULL)'"
   ]
  },
  {
   "cell_type": "code",
   "execution_count": 10,
   "metadata": {},
   "outputs": [
    {
     "name": "stdout",
     "output_type": "stream",
     "text": [
      "CMySQLCursor: CREATE TABLE zapatillas (id_zapatillas I..\n"
     ]
    },
    {
     "data": {
      "text/plain": [
       "<mysql.connector.cursor_cext.CMySQLCursor at 0x1dcdc1162d0>"
      ]
     },
     "execution_count": 10,
     "metadata": {},
     "output_type": "execute_result"
    }
   ],
   "source": [
    "# creamos la primera tabla, zapatillas\n",
    "crear_tabla('AlumnaAdalab', query1)"
   ]
  },
  {
   "cell_type": "code",
   "execution_count": 15,
   "metadata": {},
   "outputs": [],
   "source": [
    "query_clientes = 'CREATE TABLE clientes (id_cliente INT AUTO_INCREMENT NOT NULL PRIMARY KEY, nombre VARCHAR(45) NOT NULL, telefono INT NOT NULL, email VARCHAR(45) NOT NULL, direccion VARCHAR(45) NOT NULL, ciudad VARCHAR(45) NULL, provincia VARCHAR(45) NOT NULL, pais VARCHAR(45) NOT NULL, codigo_postal INT NOT NULL)'"
   ]
  },
  {
   "cell_type": "code",
   "execution_count": 16,
   "metadata": {},
   "outputs": [
    {
     "name": "stdout",
     "output_type": "stream",
     "text": [
      "CMySQLCursor: CREATE TABLE clientes (id_cliente INT AU..\n"
     ]
    },
    {
     "data": {
      "text/plain": [
       "<mysql.connector.cursor_cext.CMySQLCursor at 0x1dcdda0bd90>"
      ]
     },
     "execution_count": 16,
     "metadata": {},
     "output_type": "execute_result"
    }
   ],
   "source": [
    "crear_tabla('AlumnaAdalab', query_clientes)"
   ]
  },
  {
   "cell_type": "code",
   "execution_count": 17,
   "metadata": {},
   "outputs": [],
   "source": [
    "query_empleados = 'CREATE TABLE empleados (id_empleado INT AUTO_INCREMENT NOT NULL PRIMARY KEY, nombre VARCHAR(45) NOT NULL, tienda VARCHAR(45) NOT NULL, salario FLOAT NULL, fecha_incorporacion DATE NOT NULL)'"
   ]
  },
  {
   "cell_type": "code",
   "execution_count": 18,
   "metadata": {},
   "outputs": [
    {
     "name": "stdout",
     "output_type": "stream",
     "text": [
      "CMySQLCursor: CREATE TABLE empleados (id_empleado INT ..\n"
     ]
    },
    {
     "data": {
      "text/plain": [
       "<mysql.connector.cursor_cext.CMySQLCursor at 0x1dcdd9ee0d0>"
      ]
     },
     "execution_count": 18,
     "metadata": {},
     "output_type": "execute_result"
    }
   ],
   "source": [
    "crear_tabla('AlumnaAdalab', query_empleados)"
   ]
  },
  {
   "cell_type": "code",
   "execution_count": 31,
   "metadata": {},
   "outputs": [],
   "source": [
    "query_facturas = 'CREATE TABLE facturas (id_factura INT AUTO_INCREMENT NOT NULL PRIMARY KEY, id_empleado INT NOT NULL, id_cliente INT NOT NULL, id_zapatillas INT NOT NULL, fecha DATE NOT NULL, total FLOAT NOT NULL, FOREIGN KEY (id_zapatillas) REFERENCES zapatillas(id_zapatillas), FOREIGN KEY (id_cliente) REFERENCES clientes(id_cliente), FOREIGN KEY (id_empleado) REFERENCES empleados(id_empleado))'"
   ]
  },
  {
   "cell_type": "code",
   "execution_count": 32,
   "metadata": {},
   "outputs": [
    {
     "name": "stdout",
     "output_type": "stream",
     "text": [
      "CMySQLCursor: CREATE TABLE facturas (id_factura INT AU..\n"
     ]
    },
    {
     "data": {
      "text/plain": [
       "<mysql.connector.cursor_cext.CMySQLCursor at 0x1dcdc162350>"
      ]
     },
     "execution_count": 32,
     "metadata": {},
     "output_type": "execute_result"
    }
   ],
   "source": [
    "crear_tabla('AlumnaAdalab', query_facturas)"
   ]
  }
 ],
 "metadata": {
  "kernelspec": {
   "display_name": "Python 3",
   "language": "python",
   "name": "python3"
  },
  "language_info": {
   "codemirror_mode": {
    "name": "ipython",
    "version": 3
   },
   "file_extension": ".py",
   "mimetype": "text/x-python",
   "name": "python",
   "nbconvert_exporter": "python",
   "pygments_lexer": "ipython3",
   "version": "3.11.2"
  },
  "orig_nbformat": 4
 },
 "nbformat": 4,
 "nbformat_minor": 2
}
