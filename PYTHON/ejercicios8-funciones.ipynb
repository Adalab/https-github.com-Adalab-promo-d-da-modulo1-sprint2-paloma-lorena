{
 "cells": [
  {
   "attachments": {},
   "cell_type": "markdown",
   "metadata": {},
   "source": [
    "1. Cread una función que reciba 2 números enteros en forma de string como entrada, y dé como resultado la suma (también en forma de string).\n",
    "- Condiciones:\n",
    "\n",
    "    - Si los dos parámetros que recibe la función son strings vacíos la función nos debe devolver \"0\"\n",
    "    - Si el primer parámetro es un string vacío, la función nos devuelve el valor del segundo parámetro y viceversa."
   ]
  },
  {
   "cell_type": "code",
   "execution_count": 23,
   "metadata": {},
   "outputs": [],
   "source": [
    "# suma = num1 + num2\n",
    "def suma_string(num1, num2):\n",
    "    if type(num1) != str and type(num2) != str:\n",
    "        print(\"Los datos son incorrectos\")\n",
    "    elif num1 == \"\" and num2 == \"\":\n",
    "        print('0')\n",
    "    elif num1 == \"\" or num2 == \"\":\n",
    "        if num1 == \"\":\n",
    "            return num2\n",
    "        elif num2 == \"\":\n",
    "            return num1\n",
    "    else: \n",
    "        num1 = int(num1)\n",
    "        num2 = int(num2)\n",
    "        suma = num1 + num2\n",
    "        return str(suma)"
   ]
  },
  {
   "cell_type": "code",
   "execution_count": 26,
   "metadata": {},
   "outputs": [
    {
     "name": "stdout",
     "output_type": "stream",
     "text": [
      "9\n",
      "39\n",
      "0\n",
      "None\n",
      "2\n",
      "-2\n"
     ]
    }
   ],
   "source": [
    "print(suma_string(\"4\", \"5\"))\n",
    "print(suma_string(\"34\", \"5\"))\n",
    "print(suma_string(\"\", \"\"))\n",
    "print(suma_string(\"2\", \"\"))\n",
    "print(suma_string(\"-5\", \"3\"))"
   ]
  },
  {
   "attachments": {},
   "cell_type": "markdown",
   "metadata": {},
   "source": [
    "Probad la función para las siguientes combinaciones de \"números\"\n",
    "\n",
    "Parámetros que recibe la función: \"4\",  \"5\" --> Output esperado: \"9\"\n",
    "Parámetros que recibe la función: \"34\", \"5\" --> Output esperado: \"39\"\n",
    "Parámetros que recibe la función: \"\", \"\" --> Output esperado: \"0\"\n",
    "Parámetros que recibe la función: \"2\", \"\" --> Output esperado: \"2\"\n",
    "Parámetros que recibe la función: \"-5\", \"3\" --> Output esperado: \"-2\""
   ]
  },
  {
   "attachments": {},
   "cell_type": "markdown",
   "metadata": {},
   "source": [
    "2. El objetivo es comparar cada par de enteros de 2 listas, y devolver una nueva lista con el número mayor de la comapración.\n",
    "\n",
    "\n",
    "Probad la función para las siguientes listas: \n",
    "arr1 = [13, 64, 15, 17, 88]\n",
    "arr2 = [23, 14, 53, 17, 80]\n",
    "resultado = [23, 64, 53, 17, 88]\n",
    "\n",
    "\n",
    "💡 Pista 💡 En Python existe el método "
   ]
  },
  {
   "cell_type": "code",
   "execution_count": 29,
   "metadata": {},
   "outputs": [],
   "source": [
    "arr1 = [13, 64, 15, 17, 88]\n",
    "arr2 = [23, 14, 53, 17, 80]\n",
    "resultado = [23, 64, 53, 17, 88]"
   ]
  },
  {
   "cell_type": "code",
   "execution_count": 28,
   "metadata": {},
   "outputs": [],
   "source": [
    "def comparacion(lista1, lista2):\n",
    "    listas_tuplas= list(zip (lista1, lista2))\n",
    "    lista_resultado = []\n",
    "\n",
    "    for par1, par2 in listas_tuplas:\n",
    "        if par1 > par2:\n",
    "            lista_resultado.append(par1)\n",
    "        elif par2 > par1:\n",
    "            lista_resultado.append(par2)\n",
    "        else:\n",
    "            lista_resultado.append(par1)\n",
    "    \n",
    "    return lista_resultado\n"
   ]
  },
  {
   "cell_type": "code",
   "execution_count": 30,
   "metadata": {},
   "outputs": [
    {
     "data": {
      "text/plain": [
       "[23, 64, 53, 17, 88]"
      ]
     },
     "execution_count": 30,
     "metadata": {},
     "output_type": "execute_result"
    }
   ],
   "source": [
    "comparacion(arr1, arr2)"
   ]
  },
  {
   "attachments": {},
   "cell_type": "markdown",
   "metadata": {},
   "source": [
    "3. El objetivo de este ejercicio es convertir un string en un nuevo string en el que cada carácter del nuevo string es \"(\" si ese carácter aparece sólo una vez en el string original, o \")\" si ese carácter aparece más de una vez en el string. Nuestro código no tiene que ser case sensitive, es decir, si hay una letra en mayúscula y en minúscula cuenta como dos apariciones."
   ]
  },
  {
   "attachments": {},
   "cell_type": "markdown",
   "metadata": {},
   "source": [
    "Probad la función para los siguientes strings \n",
    "\n",
    "\"din\"      =>  \"(((\"\n",
    "\"recede\"   =>  \"()()()\"\n",
    "\"Success\"  =>  \")())())\"\n",
    "\"(( @\"     =>  \"))((\" \n",
    "\"Ocvl@GamFLAFkixkS\" => \"((()(()()))))(()(\""
   ]
  },
  {
   "cell_type": "code",
   "execution_count": 4,
   "metadata": {},
   "outputs": [],
   "source": [
    "def traduccion_string(string):\n",
    "    string_final = [] #posterior conversión a lista\n",
    "    string_lista = list(string)\n",
    "    \n",
    "    for l in string_lista:\n",
    "        conteo = string_lista.count(l)\n",
    "        if conteo == 0:\n",
    "            string_final.append (\")\")\n",
    "        elif conteo >= 1:\n",
    "            string_final.append (\"(\")\n",
    "    \n",
    "    string_final1 = \"\".join(string_final)\n",
    "\n",
    "    return string_final1"
   ]
  },
  {
   "cell_type": "code",
   "execution_count": 2,
   "metadata": {},
   "outputs": [],
   "source": [
    "def traduccion_string(string):\n",
    "    string_final = [] #posterior conversión a lista\n",
    "    string_lista = list(string)\n",
    "    string_lista2 = string_lista.copy()\n",
    "    \n",
    "    for l in string_lista2:\n",
    "        if string_lista.count(l) == 0:\n",
    "            string_final.append (\")\")\n",
    "        elif string_lista.count(l) >= 1:\n",
    "            string_final.append (\"(\")\n",
    "    \n",
    "    string_final = \"\".join(string_final)\n",
    "\n",
    "    return string_final"
   ]
  },
  {
   "cell_type": "code",
   "execution_count": 5,
   "metadata": {},
   "outputs": [
    {
     "name": "stdout",
     "output_type": "stream",
     "text": [
      "(((\n",
      "((((((\n",
      "(((((((\n",
      "((((\n",
      "(((((((((((((((((\n"
     ]
    }
   ],
   "source": [
    "print(traduccion_string(\"din\"))\n",
    "print(traduccion_string(\"recede\"))\n",
    "print(traduccion_string(\"Success\"))\n",
    "print(traduccion_string(\"(( @\"))\n",
    "print(traduccion_string(\"Ocvl@GamFLAFkixkS\"))\n",
    "\n"
   ]
  },
  {
   "attachments": {},
   "cell_type": "markdown",
   "metadata": {},
   "source": [
    "BONUS 4. A Pete le gusta hacer pasteles. Tiene algunas recetas e ingredientes. Desgraciadamente, no se le dan bien las matemáticas. ¿Puedes ayudarle a averiguar cuántas tartas puede hacer teniendo en cuenta sus recetas?"
   ]
  },
  {
   "attachments": {},
   "cell_type": "markdown",
   "metadata": {},
   "source": [
    "Escribid una función,  que tome la receta (diccionario) y los ingredientes disponibles (también un diccionario) y devuelva el número máximo de pasteles que Pete puede hornear (entero). Para simplificar, no hay unidades para las cantidades (por ejemplo, 1 libra de harina o 200 g de azúcar son simplemente 1 o 200). Los ingredientes que no están presentes en los diccionarios, pueden ser considerados como 0.\n",
    "\n",
    "```\n",
    "Probad con los siguientes diccionarios: \n",
    "\n",
    "RECETA {'flour': 500, 'sugar': 200, 'eggs': 1}, \n",
    "INGREDIENTES {'flour': 1200, 'sugar': 1200, 'eggs': 5, 'milk': 200}\n",
    "\n",
    "RESULTADO: 2 \n",
    "----------\n",
    "\n",
    "RECETA {'apples': 3, 'flour': 300, 'sugar': 150, 'milk': 100, 'oil': 100}\n",
    "INGREDIENTES {'sugar': 500, 'flour': 2000, 'milk': 2000}\n",
    "\n",
    "RESULTADO 0\n",
    "``` \n",
    "**Pista**: Nuestra función recibirá dos parámetros. "
   ]
  },
  {
   "attachments": {},
   "cell_type": "markdown",
   "metadata": {},
   "source": [
    "BONUS 5. Escribid una función que va a ser una calculadora. La lista recibirá dos parámetros, una lista de números y un string con la operación que queremos hacer (puede ser \"*\", \"+\")\n",
    "\n",
    "\n",
    "``` \n",
    "Probad con los siguientes inputs\n",
    "\n",
    "lista1 = [11, 6, 98, 1, 2] , \"*\"\n",
    "RESULTADO 12936\n",
    "\n",
    "-----------------------------------\n",
    "lista2 = [23,34, 56, 11, 90] , \"+\"\n",
    "RESULTADO 214\n",
    "\n",
    "-----------------------------------\n",
    "lista3 = [23, 4,109 , 94, 77] , \"-\"\n",
    "RESULTADO 'Lo siento, necesito que me pases una operación valida.'\n",
    "```"
   ]
  }
 ],
 "metadata": {
  "kernelspec": {
   "display_name": "adalabenv",
   "language": "python",
   "name": "python3"
  },
  "language_info": {
   "codemirror_mode": {
    "name": "ipython",
    "version": 3
   },
   "file_extension": ".py",
   "mimetype": "text/x-python",
   "name": "python",
   "nbconvert_exporter": "python",
   "pygments_lexer": "ipython3",
   "version": "3.10.9"
  },
  "orig_nbformat": 4,
  "vscode": {
   "interpreter": {
    "hash": "0b8bbabd87d3ce636409443d1398e5656bf795e33c753b5e821c4b969f4e6c41"
   }
  }
 },
 "nbformat": 4,
 "nbformat_minor": 2
}
