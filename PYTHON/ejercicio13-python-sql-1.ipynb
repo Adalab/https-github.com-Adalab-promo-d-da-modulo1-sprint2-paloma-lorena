{
 "cells": [
  {
   "attachments": {},
   "cell_type": "markdown",
   "metadata": {},
   "source": [
    "## PAIR PROGRAMMING PYTHON + SQL"
   ]
  },
  {
   "attachments": {},
   "cell_type": "markdown",
   "metadata": {},
   "source": [
    "1. Antes de empezar a trabajar con la BBDD de Northwind, conozcamos un poco las BBDD que tenemos en nuestro servidor. ¿Qué BBDD tenemos en nuestro servidor?"
   ]
  },
  {
   "cell_type": "code",
   "execution_count": 2,
   "metadata": {},
   "outputs": [],
   "source": [
    "import mysql.connector"
   ]
  },
  {
   "cell_type": "code",
   "execution_count": 3,
   "metadata": {},
   "outputs": [],
   "source": [
    "diccio_configuracion = {\"user\": \"root\", \"password\": \"AlumnaAdalab\", \"host\": \"127.0.0.1\", \"database\": \"northwind\", \"raise_on_warnings\": True}"
   ]
  },
  {
   "cell_type": "code",
   "execution_count": 4,
   "metadata": {},
   "outputs": [
    {
     "name": "stdout",
     "output_type": "stream",
     "text": [
      "('BD_Alumna',)\n",
      "('BD_pruebas',)\n",
      "('adalab',)\n",
      "('estudiantes',)\n",
      "('information_schema',)\n",
      "('leccion-1-sql',)\n",
      "('leccion-10-sql',)\n",
      "('leccion-11-sql',)\n",
      "('leccion-12-sql',)\n",
      "('leccion-13-sql',)\n",
      "('leccion-14-sql',)\n",
      "('leccion-2-sql',)\n",
      "('leccion-3-sql',)\n",
      "('leccion-4-sql',)\n",
      "('leccion-5-sql',)\n",
      "('leccion-6-sql',)\n",
      "('leccion-7-sql',)\n",
      "('leccion-8-sql',)\n",
      "('leccion-9-sql',)\n",
      "('mi_empresa',)\n",
      "('mysql',)\n",
      "('northwind',)\n",
      "('performance_schema',)\n",
      "('proyecto',)\n",
      "('prueba',)\n",
      "('sakila',)\n",
      "('sports_analytics',)\n",
      "('sys',)\n",
      "('tienda',)\n",
      "('tienda_zapatillas',)\n",
      "('world',)\n"
     ]
    }
   ],
   "source": [
    "cnx = mysql.connector.connect(**diccio_configuracion)\n",
    "mycursor = cnx.cursor()\n",
    "mycursor.execute(\"SHOW DATABASES\")\n",
    "for i in mycursor:\n",
    "    print(i)"
   ]
  },
  {
   "attachments": {},
   "cell_type": "markdown",
   "metadata": {},
   "source": [
    "2. Empezemos a explorar la BBDD de Northwind. ¿Qué tablas componen la BBDD? Recuerda que primero nos tendremos que conectar con la BBDD sobre la que queremos trabajar. Guarda el resultado de los nombres de la tablas en una lista."
   ]
  },
  {
   "cell_type": "code",
   "execution_count": 5,
   "metadata": {},
   "outputs": [
    {
     "name": "stdout",
     "output_type": "stream",
     "text": [
      "['Facturas', 'categories', 'clientes', 'customer_customer_demo', 'customer_demographics', 'customers', 'empleados', 'employee_territories', 'employees', 'order_details', 'orders', 'products', 'region', 'shippers', 'suppliers', 'territories', 'zapatillas']\n"
     ]
    }
   ],
   "source": [
    "cnx = mysql.connector.connect(**diccio_configuracion)\n",
    "mycursor = cnx.cursor()\n",
    "mycursor.execute(\"SHOW TABLES\")\n",
    "tablas_northwind = []\n",
    "for i in mycursor:\n",
    "    i = list(i) #convertimos las tuplas a lista y luego las guardamos con método extend en una lista creada antes,\n",
    "                #para evitar que se convierta a una lista de tuplas\n",
    "    tablas_northwind.extend(i)\n",
    "\n",
    "print(tablas_northwind)\n",
    "\n",
    "cnx.close()"
   ]
  },
  {
   "attachments": {},
   "cell_type": "markdown",
   "metadata": {},
   "source": [
    "3. ¿Qué columnas tiene cada una de las tablas? Para esto tendréis que hacer un for loop para que nos saque el resultado de todas las columnas."
   ]
  },
  {
   "cell_type": "code",
   "execution_count": 6,
   "metadata": {},
   "outputs": [
    {
     "name": "stdout",
     "output_type": "stream",
     "text": [
      "['fecha', 'id_cliente', 'id_empleado', 'id_factura', 'id_zapatilla', 'numero_factura']\n"
     ]
    }
   ],
   "source": [
    "cnx2 = mysql.connector.connect(host = \"localhost\", user = \"root\", password = \"AlumnaAdalab\", database = \"INFORMATION_SCHEMA\")\n",
    "mycursor = cnx2.cursor()\n",
    "mycursor.execute(\"SELECT * FROM COLUMNS WHERE TABLE_NAME = 'Facturas'\")\n",
    "columnas_facturas = []\n",
    "for colum in mycursor: #nos damos cuenta de que los nombres de las columnas están en el índice 3, por ello,\n",
    "                       #los apendeamos a una lista nueva para que quede más limpio\n",
    "    columnas_facturas.append(colum[3])\n",
    "print (columnas_facturas)\n",
    "\n",
    "cnx2.close()\n",
    "\n",
    "#Para poder sacar las columnas de todas las tablas, habría que repetir el proceso con cada tabla o, bien,\n",
    "#crear un diccionario donde las keys fueran los nombres de las tablas y los values, las diferentes columnas.\n",
    "#con ifs anidados, posiblemente"
   ]
  },
  {
   "attachments": {},
   "cell_type": "markdown",
   "metadata": {},
   "source": [
    "4. Hagamos unas queries facilitas:\n",
    "   - Extraed el primer pedido donde se ha gastado más. Devolved el id del pedido y la cantidad gastada.\n",
    "   - Devuelve la misma query que en el anterior ejercicio, pero en este caso devuelve todos los resultados\n",
    "   - Extraed el números de pedidos que se hayan hecho por dia. Devuelve los resultados en una dataframe.\n",
    "   - Extraer los pedidos hechos por \"Nancy Daviolo\". Tendréis que hacer una subquery."
   ]
  },
  {
   "cell_type": "code",
   "execution_count": 7,
   "metadata": {},
   "outputs": [
    {
     "name": "stdout",
     "output_type": "stream",
     "text": [
      "(10865, 15809.05)\n"
     ]
    }
   ],
   "source": [
    "#1.Extraed el primer pedido donde se ha gastado más. Devolved el id del pedido y la cantidad gastada.\n",
    "cnx = mysql.connector.connect(**diccio_configuracion)\n",
    "mycursor = cnx.cursor()\n",
    "mycursor.execute(\"SELECT order_id, ((quantity * unit_price) - (1 - discount)) AS CantidadGastada FROM order_details ORDER BY ((quantity * unit_price) - (1 - discount)) DESC\")\n",
    "\n",
    "miresultado = mycursor.fetchone()\n",
    "print(miresultado)\n"
   ]
  },
  {
   "cell_type": "code",
   "execution_count": 8,
   "metadata": {},
   "outputs": [
    {
     "name": "stdout",
     "output_type": "stream",
     "text": [
      "[(10865, 15809.05), (10981, 15809.0), (10353, 10539.2), (10417, 10539.0), (10889, 10539.0), (10424, 10328.400000000001), (10897, 9902.2), (10372, 8431.25), (10816, 7904.05), (10540, 7904.0), (10817, 7904.0), (10912, 7426.650000000001), (11030, 7426.650000000001), (11032, 6586.5), (10776, 6359.05), (10479, 6323.0), (10993, 6188.75), (11017, 6049.0), (11030, 5499.25), (10515, 5267.0)]\n"
     ]
    }
   ],
   "source": [
    "#2. Devuelve la misma query que en el anterior ejercicio, pero en este caso devuelve todos los resultados\n",
    "\n",
    "cnx = mysql.connector.connect(**diccio_configuracion)\n",
    "mycursor = cnx.cursor()\n",
    "mycursor.execute(\"SELECT order_id, ((quantity * unit_price) - (1 - discount)) AS CantidadGastada FROM order_details ORDER BY ((quantity * unit_price) - (1 - discount)) DESC LIMIT 20\")\n",
    "\n",
    "miresultado = mycursor.fetchall()\n",
    "print(miresultado)\n",
    "#EL resultado sería sin el LIMIT, pero lo ponemos para poder trabajar mejor nosotras ahora"
   ]
  },
  {
   "cell_type": "code",
   "execution_count": 14,
   "metadata": {},
   "outputs": [],
   "source": [
    "#3. Extraed el números de pedidos que se hayan hecho por dia. Devuelve los resultados en una dataframe.\n",
    "\n",
    "import pandas as pd \n",
    "\n",
    "cnx = mysql.connector.connect(**diccio_configuracion)\n",
    "mycursor = cnx.cursor()\n",
    "\n",
    "sql = \"SELECT COUNT(order_id), DAY(order_date), MONTH(order_date), YEAR(order_date) FROM orders GROUP BY DAY(order_date), MONTH(order_date), YEAR(order_date) ORDER BY DAY(order_date), MONTH(order_date), YEAR(order_date) DESC\"\n",
    "df = pd.read_sql_query(sql, cnx) #import pandas"
   ]
  },
  {
   "cell_type": "code",
   "execution_count": 15,
   "metadata": {},
   "outputs": [
    {
     "data": {
      "text/html": [
       "<div>\n",
       "<style scoped>\n",
       "    .dataframe tbody tr th:only-of-type {\n",
       "        vertical-align: middle;\n",
       "    }\n",
       "\n",
       "    .dataframe tbody tr th {\n",
       "        vertical-align: top;\n",
       "    }\n",
       "\n",
       "    .dataframe thead th {\n",
       "        text-align: right;\n",
       "    }\n",
       "</style>\n",
       "<table border=\"1\" class=\"dataframe\">\n",
       "  <thead>\n",
       "    <tr style=\"text-align: right;\">\n",
       "      <th></th>\n",
       "      <th>COUNT(order_id)</th>\n",
       "      <th>DAY(order_date)</th>\n",
       "      <th>MONTH(order_date)</th>\n",
       "      <th>YEAR(order_date)</th>\n",
       "    </tr>\n",
       "  </thead>\n",
       "  <tbody>\n",
       "    <tr>\n",
       "      <th>0</th>\n",
       "      <td>3</td>\n",
       "      <td>1</td>\n",
       "      <td>1</td>\n",
       "      <td>1998</td>\n",
       "    </tr>\n",
       "    <tr>\n",
       "      <th>1</th>\n",
       "      <td>2</td>\n",
       "      <td>1</td>\n",
       "      <td>1</td>\n",
       "      <td>1997</td>\n",
       "    </tr>\n",
       "    <tr>\n",
       "      <th>2</th>\n",
       "      <td>4</td>\n",
       "      <td>1</td>\n",
       "      <td>4</td>\n",
       "      <td>1998</td>\n",
       "    </tr>\n",
       "    <tr>\n",
       "      <th>3</th>\n",
       "      <td>1</td>\n",
       "      <td>1</td>\n",
       "      <td>4</td>\n",
       "      <td>1997</td>\n",
       "    </tr>\n",
       "    <tr>\n",
       "      <th>4</th>\n",
       "      <td>3</td>\n",
       "      <td>1</td>\n",
       "      <td>5</td>\n",
       "      <td>1998</td>\n",
       "    </tr>\n",
       "    <tr>\n",
       "      <th>5</th>\n",
       "      <td>2</td>\n",
       "      <td>1</td>\n",
       "      <td>5</td>\n",
       "      <td>1997</td>\n",
       "    </tr>\n",
       "    <tr>\n",
       "      <th>6</th>\n",
       "      <td>1</td>\n",
       "      <td>1</td>\n",
       "      <td>7</td>\n",
       "      <td>1997</td>\n",
       "    </tr>\n",
       "    <tr>\n",
       "      <th>7</th>\n",
       "      <td>1</td>\n",
       "      <td>1</td>\n",
       "      <td>8</td>\n",
       "      <td>1997</td>\n",
       "    </tr>\n",
       "    <tr>\n",
       "      <th>8</th>\n",
       "      <td>2</td>\n",
       "      <td>1</td>\n",
       "      <td>8</td>\n",
       "      <td>1996</td>\n",
       "    </tr>\n",
       "    <tr>\n",
       "      <th>9</th>\n",
       "      <td>2</td>\n",
       "      <td>1</td>\n",
       "      <td>9</td>\n",
       "      <td>1997</td>\n",
       "    </tr>\n",
       "    <tr>\n",
       "      <th>10</th>\n",
       "      <td>2</td>\n",
       "      <td>1</td>\n",
       "      <td>10</td>\n",
       "      <td>1997</td>\n",
       "    </tr>\n",
       "  </tbody>\n",
       "</table>\n",
       "</div>"
      ],
      "text/plain": [
       "    COUNT(order_id)  DAY(order_date)  MONTH(order_date)  YEAR(order_date)\n",
       "0                 3                1                  1              1998\n",
       "1                 2                1                  1              1997\n",
       "2                 4                1                  4              1998\n",
       "3                 1                1                  4              1997\n",
       "4                 3                1                  5              1998\n",
       "5                 2                1                  5              1997\n",
       "6                 1                1                  7              1997\n",
       "7                 1                1                  8              1997\n",
       "8                 2                1                  8              1996\n",
       "9                 2                1                  9              1997\n",
       "10                2                1                 10              1997"
      ]
     },
     "execution_count": 15,
     "metadata": {},
     "output_type": "execute_result"
    }
   ],
   "source": [
    "df.head(11)"
   ]
  },
  {
   "attachments": {},
   "cell_type": "markdown",
   "metadata": {},
   "source": [
    "5. Para finalizar el ejercicio, desconectad la conexión con el servidor."
   ]
  },
  {
   "cell_type": "code",
   "execution_count": 16,
   "metadata": {},
   "outputs": [
    {
     "name": "stderr",
     "output_type": "stream",
     "text": [
      "/home/adalaber/anaconda3/envs/adalabenv/lib/python3.10/site-packages/pandas/io/sql.py:762: UserWarning: pandas only support SQLAlchemy connectable(engine/connection) ordatabase string URI or sqlite3 DBAPI2 connectionother DBAPI2 objects are not tested, please consider using SQLAlchemy\n",
      "  warnings.warn(\n"
     ]
    }
   ],
   "source": [
    "cnx.close() #el comando para cerrrar y desconectar con el servidor"
   ]
  }
 ],
 "metadata": {
  "kernelspec": {
   "display_name": "adalabenv",
   "language": "python",
   "name": "python3"
  },
  "language_info": {
   "codemirror_mode": {
    "name": "ipython",
    "version": 3
   },
   "file_extension": ".py",
   "mimetype": "text/x-python",
   "name": "python",
   "nbconvert_exporter": "python",
   "pygments_lexer": "ipython3",
   "version": "3.10.9"
  },
  "orig_nbformat": 4,
  "vscode": {
   "interpreter": {
    "hash": "0b8bbabd87d3ce636409443d1398e5656bf795e33c753b5e821c4b969f4e6c41"
   }
  }
 },
 "nbformat": 4,
 "nbformat_minor": 2
}
