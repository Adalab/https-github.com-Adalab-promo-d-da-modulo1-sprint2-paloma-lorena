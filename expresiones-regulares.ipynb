{
 "cells": [
  {
   "attachments": {},
   "cell_type": "markdown",
   "metadata": {},
   "source": [
    "# PAIR PROGRAMMING EXPRESIONES REGULARES (REGEX)"
   ]
  },
  {
   "attachments": {},
   "cell_type": "markdown",
   "metadata": {},
   "source": [
    "Antes de empezar:\n",
    "> 📌 Cargad el fichero del email que tenemos al final de la explicación del pair de hoy y almacenarlo en una variable. Para abrirlo tendremos que usar el método open aprendido en lecciones anteriores. 📌 Importad las librerías necesarias para poder usar las expresiones regulares\n",
    "\n",
    "Recordad que en regex tenemos que buscar patrones para cada objetivo que os planteamos. Tendremos que poner en práctica todo lo aprendido hasta ahora. For loops, métodos de strings, indexación de listas, etc."
   ]
  },
  {
   "cell_type": "code",
   "execution_count": 2,
   "metadata": {},
   "outputs": [],
   "source": [
    "import re"
   ]
  },
  {
   "cell_type": "markdown",
   "metadata": {},
   "source": [
    "1. Extraer el email de la persona que envió el email (os deberían salir 2).\n",
    "\n",
    "💡 Pista 💡 Tendremos que hacer dos busquedas:\n",
    "- Una para extraer toda la información del remitente. El remitente siempre empieza por From:\n",
    "```\n",
    "info_remitente = re.findall('From:.*',email)\n",
    "```\n",
    "- Otra para extraer el email únicamente."
   ]
  },
  {
   "cell_type": "code",
   "execution_count": 1,
   "metadata": {},
   "outputs": [],
   "source": [
    "email = open(\"email.txt\", \"r\").read()"
   ]
  },
  {
   "cell_type": "code",
   "execution_count": 11,
   "metadata": {},
   "outputs": [],
   "source": [
    "info_remitente = re.findall('From:.*',email)"
   ]
  },
  {
   "cell_type": "code",
   "execution_count": 15,
   "metadata": {},
   "outputs": [
    {
     "data": {
      "text/plain": [
       "['From: \"Mr. Ben Suleman\" <bensul2004nng@spinfinder.com>',\n",
       " 'From: \"MR. JAMES NGOLA.\" <james_ngola2002@maktoob.com>']"
      ]
     },
     "execution_count": 15,
     "metadata": {},
     "output_type": "execute_result"
    }
   ],
   "source": [
    "info_remitente"
   ]
  },
  {
   "cell_type": "code",
   "execution_count": 22,
   "metadata": {},
   "outputs": [],
   "source": [
    "# lo convertimos a string\n",
    "info_remitente_copia = info_remitente.copy()\n",
    "str_info = \" \".join(info_remitente_copia)\n"
   ]
  },
  {
   "cell_type": "code",
   "execution_count": 62,
   "metadata": {},
   "outputs": [
    {
     "data": {
      "text/plain": [
       "'From: \"Mr. Ben Suleman\" <bensul2004nng@spinfinder.com> From: \"MR. JAMES NGOLA.\" <james_ngola2002@maktoob.com>'"
      ]
     },
     "execution_count": 62,
     "metadata": {},
     "output_type": "execute_result"
    }
   ],
   "source": [
    "str_info"
   ]
  },
  {
   "cell_type": "code",
   "execution_count": 83,
   "metadata": {},
   "outputs": [],
   "source": [
    "correos = re.findall('(\\w+\\d+\\w*@\\w+\\.com)', str_info)\n",
    "\n",
    "#[a-z]+|\\d+"
   ]
  },
  {
   "cell_type": "code",
   "execution_count": 84,
   "metadata": {},
   "outputs": [
    {
     "data": {
      "text/plain": [
       "['bensul2004nng@spinfinder.com', 'james_ngola2002@maktoob.com']"
      ]
     },
     "execution_count": 84,
     "metadata": {},
     "output_type": "execute_result"
    }
   ],
   "source": [
    "correos"
   ]
  },
  {
   "cell_type": "markdown",
   "metadata": {},
   "source": [
    "2. Extraer el nombre de la persona que envió el email (os deberían salir 2).\n",
    "\n",
    "💡 Pista 💡 Tendremos que hacer dos busquedas:\n",
    "- Podemos usar el resultado de la primera búsqueda del ejercicio anterior para sacar el nombre.\n",
    "- Otra para extraer el nombre únicamente."
   ]
  },
  {
   "cell_type": "code",
   "execution_count": 27,
   "metadata": {},
   "outputs": [],
   "source": [
    "nombres = re.findall('[M][r|R]\\.\\s[A-Z]\\w*\\s[A-Z]\\w*', str_info)"
   ]
  },
  {
   "cell_type": "code",
   "execution_count": 29,
   "metadata": {},
   "outputs": [
    {
     "data": {
      "text/plain": [
       "['Mr. Ben Suleman', 'MR. JAMES NGOLA']"
      ]
     },
     "execution_count": 29,
     "metadata": {},
     "output_type": "execute_result"
    }
   ],
   "source": [
    "nombres"
   ]
  },
  {
   "cell_type": "markdown",
   "metadata": {},
   "source": [
    "3. El día en el que se mandó el email (os deberían salir 2).\n",
    "\n",
    "💡 Pista 💡 De la misma forma que antes buscamos por From: primero, ahora lo tendremos que hacer con Date: .*"
   ]
  },
  {
   "cell_type": "code",
   "execution_count": 85,
   "metadata": {},
   "outputs": [],
   "source": [
    "fecha_envio = re.findall('Date:.*',email)"
   ]
  },
  {
   "cell_type": "code",
   "execution_count": 91,
   "metadata": {},
   "outputs": [],
   "source": [
    "fecha_envio = \" \".join(fecha_envio)"
   ]
  },
  {
   "cell_type": "code",
   "execution_count": 94,
   "metadata": {},
   "outputs": [
    {
     "data": {
      "text/plain": [
       "'Date: Thu, 31 Oct 2002 05:10:00 Date: Thu, 31 Oct 2002 02:38:20 +0000'"
      ]
     },
     "execution_count": 94,
     "metadata": {},
     "output_type": "execute_result"
    }
   ],
   "source": [
    "fecha_envio"
   ]
  },
  {
   "cell_type": "code",
   "execution_count": 97,
   "metadata": {},
   "outputs": [],
   "source": [
    "fechas = re.findall('([A-Z][a-z]+,\\s\\d{2}\\s[A-Z]\\w+\\s\\d{4}\\s.{8})', fecha_envio)"
   ]
  },
  {
   "cell_type": "code",
   "execution_count": 98,
   "metadata": {},
   "outputs": [
    {
     "data": {
      "text/plain": [
       "['Thu, 31 Oct 2002 05:10:00', 'Thu, 31 Oct 2002 02:38:20']"
      ]
     },
     "execution_count": 98,
     "metadata": {},
     "output_type": "execute_result"
    }
   ],
   "source": [
    "fechas"
   ]
  },
  {
   "attachments": {},
   "cell_type": "markdown",
   "metadata": {},
   "source": [
    "4. El asunto del email (os deberían salir 2).\n",
    "\n",
    "💡 Pista 💡 Busca primero \"Subject:.* y después busca el patrón para extraer el asunto."
   ]
  },
  {
   "cell_type": "code",
   "execution_count": 162,
   "metadata": {},
   "outputs": [],
   "source": [
    "asunto = re.findall('Subject:.*',email)"
   ]
  },
  {
   "cell_type": "code",
   "execution_count": 163,
   "metadata": {},
   "outputs": [
    {
     "name": "stdout",
     "output_type": "stream",
     "text": [
      "Subject: URGENT ASSISTANCE /RELATIONSHIP (P) Subject: URGENT BUSINESS ASSISTANCE AND PARTNERSHIP\n"
     ]
    }
   ],
   "source": [
    "asunto = ' '.join(asunto)\n",
    "print(asunto)"
   ]
  },
  {
   "cell_type": "code",
   "execution_count": 166,
   "metadata": {},
   "outputs": [],
   "source": [
    "asuntos_correo = re.findall('[A-Z]+\\s[A-Z]+\\s.[A-Z]+', asunto)"
   ]
  },
  {
   "cell_type": "code",
   "execution_count": 167,
   "metadata": {},
   "outputs": [
    {
     "data": {
      "text/plain": [
       "['URGENT ASSISTANCE /RELATIONSHIP', 'URGENT BUSINESS ASSISTANCE']"
      ]
     },
     "execution_count": 167,
     "metadata": {},
     "output_type": "execute_result"
    }
   ],
   "source": [
    "asuntos_correo"
   ]
  },
  {
   "cell_type": "markdown",
   "metadata": {},
   "source": [
    "5. Guarda todos los resultados en un diccionario"
   ]
  },
  {
   "cell_type": "code",
   "execution_count": 168,
   "metadata": {},
   "outputs": [],
   "source": [
    "diccionario_datos = {'nombre':'', 'correos':'', 'fecha_envio':'', 'asunto':''}"
   ]
  },
  {
   "cell_type": "markdown",
   "metadata": {},
   "source": [
    "💪🏽 BONUS 💪🏽\n",
    "\n",
    "Utiliza funciones para cada una de los objetivos planteados."
   ]
  }
 ],
 "metadata": {
  "kernelspec": {
   "display_name": "adalabenv",
   "language": "python",
   "name": "python3"
  },
  "language_info": {
   "codemirror_mode": {
    "name": "ipython",
    "version": 3
   },
   "file_extension": ".py",
   "mimetype": "text/x-python",
   "name": "python",
   "nbconvert_exporter": "python",
   "pygments_lexer": "ipython3",
   "version": "3.10.9"
  },
  "orig_nbformat": 4
 },
 "nbformat": 4,
 "nbformat_minor": 2
}
