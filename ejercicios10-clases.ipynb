{
 "cells": [
  {
   "attachments": {},
   "cell_type": "markdown",
   "metadata": {},
   "source": [
    "En este ejercicio de pair programming crearemos una clase. Imaginemos que nuestro jefe nos pide que creemos una clase para tener más ordenada la información sobre cada uno de los empleados de la empresa. Para ello:"
   ]
  },
  {
   "attachments": {},
   "cell_type": "markdown",
   "metadata": {},
   "source": [
    "- Definid una clase que se llame Empleados\n",
    "- Definid los siguientes atributos que caracterizan a nuestros empleados:\n",
    "  - nombre\n",
    "  - apellido\n",
    "  - edad\n",
    "  - posición que ocupa en la empresa\n",
    "  - año en que entró en la empresa\n",
    "  - número de días de vacaciones que tiene\n",
    "  - herramientas que usa cada uno de ellos, por ejemplo, Outlook, excel y word. Deberá ser una lista."
   ]
  },
  {
   "cell_type": "code",
   "execution_count": 1,
   "metadata": {},
   "outputs": [],
   "source": [
    "class Empleados: \n",
    "    def __init__(self, nombre, apellido, edad, puesto, año_inicio, vacaciones, herramientas):\n",
    "        self.nombre = nombre\n",
    "        self.apellido = apellido\n",
    "        self.edad = edad\n",
    "        self.puesto = puesto\n",
    "        self.año_inicio = año_inicio\n",
    "        self.vacaciones = vacaciones\n",
    "        self.herramientas = herramientas\n"
   ]
  },
  {
   "attachments": {},
   "cell_type": "markdown",
   "metadata": {},
   "source": [
    "- Cread una instancia para la clase creada\n",
    "- Definid los siguientes métodos:\n",
    "  - descripción\n",
    "  - calculo_vacaciones\n",
    "  - cambiando_posicion"
   ]
  },
  {
   "cell_type": "code",
   "execution_count": 43,
   "metadata": {},
   "outputs": [],
   "source": [
    "empleado1 = Empleados (\"Marcos\", \"Marquez\", 47, \"CEO\", 1987, 40, [\"Office\",\"SQL\", \"Python\"])"
   ]
  },
  {
   "cell_type": "code",
   "execution_count": 3,
   "metadata": {},
   "outputs": [
    {
     "data": {
      "text/plain": [
       "['Office', 'SQL', 'Python']"
      ]
     },
     "execution_count": 3,
     "metadata": {},
     "output_type": "execute_result"
    }
   ],
   "source": [
    "empleado1.herramientas"
   ]
  },
  {
   "cell_type": "code",
   "execution_count": 30,
   "metadata": {},
   "outputs": [],
   "source": [
    "class Empleados: \n",
    "    def __init__(self, nombre, apellido, edad, puesto, año_inicio, vacaciones, herramientas):\n",
    "        self.nombre = nombre\n",
    "        self.apellido = apellido\n",
    "        self.edad = edad\n",
    "        self.puesto = puesto\n",
    "        self.año_inicio = año_inicio\n",
    "        self.vacaciones = vacaciones\n",
    "        self.herramientas = herramientas\n",
    "\n",
    "    #CREAMOS LOS MÉTODOS:\n",
    "    \n",
    "    def descripcion(self):\n",
    "        \n",
    "        return f\"Él o ella es {self.nombre} {self.apellido}, {self.puesto}, quien lleva en la empresa desde {self.año_inicio}. Además este año le quedan {self.vacaciones} días de vacaciones.\""
   ]
  },
  {
   "cell_type": "code",
   "execution_count": 35,
   "metadata": {},
   "outputs": [],
   "source": [
    "empleado1 = Empleados (\"Marcos\", \"Marquez\", 47, \"CEO\", 1987, 40, [\"Office\",\"SQL\", \"Python\"])"
   ]
  },
  {
   "cell_type": "code",
   "execution_count": 32,
   "metadata": {},
   "outputs": [
    {
     "data": {
      "text/plain": [
       "'Él o ella es Marcos Marquez, CEO, quien lleva en la empresa desde 1987. Además este año le quedan 40 días de vacaciones.'"
      ]
     },
     "execution_count": 32,
     "metadata": {},
     "output_type": "execute_result"
    }
   ],
   "source": [
    "empleado1.descripcion()"
   ]
  },
  {
   "attachments": {},
   "cell_type": "markdown",
   "metadata": {},
   "source": [
    "TIPS PARA DEFINIR LOS MÉTODOS\n",
    "\n",
    "- Método descripcion:\n",
    "  \n",
    "El return deberá ser un string en el que aparezca el nombre, apellidos, los años que lleva en la empresa y los días de vacaciones que le quedan. Este método deberá devolver algo como esto:\n",
    "\n",
    "\n",
    "\"El/ella, es Lorena, Data Analyst, quien lleva con nostros en la empresa desde 2000. Además este año le quedan 15 dias de vacaciones\"\n",
    "\n",
    "\n",
    "- Método calculo_vacaciones:\n",
    "\n",
    "Deberá contener input que nos pregunte cuántos días te quieres ir de vacaciones.\n",
    "Luego deberemos restar el número de días que se fue de vacaciones a el número total de vacaciones que tiene ese empleado.\n",
    "- Una condición que chequee si:\n",
    "    - Si el numero de vacaciones que tiene el empleado es igual a 0, devolved un mensaje que diga que se le acabaron las vacaciones\n",
    "    - Si el número de días que se quiere ir de vacaciones es mayor que el número de vacaciones que le quedan, devolved un mensaje que diga que no se puede ir tantos de vacaciones\n",
    "    - En caso de que no se cumplan ninguna de estas condiciones, que nos devuelva el número de vacaciones que le quedan al empleado.\n",
    "\n",
    "- Método cambiando_posicion:\n",
    "  \n",
    "Iteraremos por la lista de herramientas que usa el empleado:\n",
    "    - Si el empleado usa \"Python\" devolveremos un mensaje de bien hecho!\n",
    "    - Si el empleado usa \"Excel\" le recomendaremos amigablemente que deje excel y empiece a usar Excel"
   ]
  },
  {
   "cell_type": "code",
   "execution_count": 50,
   "metadata": {},
   "outputs": [],
   "source": [
    "class Empleados: \n",
    "    def __init__(self, nombre, apellido, edad, puesto, año_inicio, vacaciones, herramientas):\n",
    "        self.nombre = nombre\n",
    "        self.apellido = apellido\n",
    "        self.edad = edad\n",
    "        self.puesto = puesto\n",
    "        self.año_inicio = año_inicio\n",
    "        self.vacaciones = vacaciones\n",
    "        self.herramientas = herramientas\n",
    "\n",
    "    #CREAMOS LOS MÉTODOS:\n",
    "    \n",
    "    def descripcion(self):\n",
    "        \n",
    "        return f\"Él o ella es {self.nombre} {self.apellido}, {self.puesto}, quien lleva en la empresa desde {self.año_inicio}. Además este año tiene {self.vacaciones} días de vacaciones.\"\n",
    "    \n",
    "    def calculo_vacaciones(self, vacaciones_disfrutadas):\n",
    "        # self.vacaciones_disfrutadas = vacaciones_disfrutadas\n",
    "\n",
    "        vacaciones_deseadas = int(input(\"¿Cuántos días se quiere ir de vacaciones?\"))\n",
    "\n",
    "        vacaciones_restantes = self.vacaciones - vacaciones_disfrutadas\n",
    "        if vacaciones_restantes == 0:\n",
    "            return \"No le quedan días de vacaciones\"\n",
    "        elif vacaciones_deseadas > vacaciones_restantes:\n",
    "            return \"No se puede ir tantos días de vacaciones\"\n",
    "        else:\n",
    "            return f\"Le quedan {vacaciones_restantes} días de vacaciones\"\n",
    "\n",
    "    def cambiando_posicion(self):\n",
    "        for h in self.herramientas:\n",
    "            if h == \"Python\" and \"Excel\" not in self.herramientas:\n",
    "                return \"¡Bien hecho!\"\n",
    "            elif h == \"Excel\" and \"Python\" not in self.herramientas:\n",
    "                return \"Debería empezar a utilizar Python\"\n",
    "            else:\n",
    "                return \"Le recomendamos que aprenda Python\"\n"
   ]
  },
  {
   "cell_type": "code",
   "execution_count": 38,
   "metadata": {},
   "outputs": [
    {
     "data": {
      "text/plain": [
       "'Le quedan 25 días de vacaciones'"
      ]
     },
     "execution_count": 38,
     "metadata": {},
     "output_type": "execute_result"
    }
   ],
   "source": [
    "empleado1.calculo_vacaciones(15)"
   ]
  },
  {
   "cell_type": "code",
   "execution_count": 44,
   "metadata": {},
   "outputs": [
    {
     "data": {
      "text/plain": [
       "'¡Bien hecho!'"
      ]
     },
     "execution_count": 44,
     "metadata": {},
     "output_type": "execute_result"
    }
   ],
   "source": [
    "empleado1.cambiando_posicion()"
   ]
  },
  {
   "cell_type": "code",
   "execution_count": 46,
   "metadata": {},
   "outputs": [],
   "source": [
    "empleado2 = Empleados(\"Julia\", \"Serrano\", 27, \"Analista de datos\", 2020, 28, [\"Excel\", \"Word\", \"PowerPoint\"])"
   ]
  },
  {
   "cell_type": "code",
   "execution_count": 47,
   "metadata": {},
   "outputs": [
    {
     "data": {
      "text/plain": [
       "'Debería empezar a utilizar Python'"
      ]
     },
     "execution_count": 47,
     "metadata": {},
     "output_type": "execute_result"
    }
   ],
   "source": [
    "empleado2.cambiando_posicion()"
   ]
  },
  {
   "cell_type": "code",
   "execution_count": 48,
   "metadata": {},
   "outputs": [
    {
     "data": {
      "text/plain": [
       "'Le quedan 13 días de vacaciones'"
      ]
     },
     "execution_count": 48,
     "metadata": {},
     "output_type": "execute_result"
    }
   ],
   "source": [
    "empleado2.calculo_vacaciones(15)"
   ]
  },
  {
   "cell_type": "code",
   "execution_count": 49,
   "metadata": {},
   "outputs": [
    {
     "data": {
      "text/plain": [
       "'Él o ella es Julia Serrano, Analista de datos, quien lleva en la empresa desde 2020. Además este año le quedan 28 días de vacaciones.'"
      ]
     },
     "execution_count": 49,
     "metadata": {},
     "output_type": "execute_result"
    }
   ],
   "source": [
    "empleado2.descripcion()"
   ]
  }
 ],
 "metadata": {
  "kernelspec": {
   "display_name": "adalabenv",
   "language": "python",
   "name": "python3"
  },
  "language_info": {
   "codemirror_mode": {
    "name": "ipython",
    "version": 3
   },
   "file_extension": ".py",
   "mimetype": "text/x-python",
   "name": "python",
   "nbconvert_exporter": "python",
   "pygments_lexer": "ipython3",
   "version": "3.10.9"
  },
  "orig_nbformat": 4,
  "vscode": {
   "interpreter": {
    "hash": "0b8bbabd87d3ce636409443d1398e5656bf795e33c753b5e821c4b969f4e6c41"
   }
  }
 },
 "nbformat": 4,
 "nbformat_minor": 2
}
