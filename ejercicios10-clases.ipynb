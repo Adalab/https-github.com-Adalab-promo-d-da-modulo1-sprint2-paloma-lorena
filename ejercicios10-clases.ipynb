{
 "cells": [
  {
   "attachments": {},
   "cell_type": "markdown",
   "metadata": {},
   "source": [
    "En este ejercicio de pair programming crearemos una clase. Imaginemos que nuestro jefe nos pide que creemos una clase para tener más ordenada la información sobre cada uno de los empleados de la empresa. Para ello:"
   ]
  },
  {
   "attachments": {},
   "cell_type": "markdown",
   "metadata": {},
   "source": [
    "- Definid una clase que se llame Empleados\n",
    "- Definid los siguientes atributos que caracterizan a nuestros empleados:\n",
    "  - nombre\n",
    "  - apellido\n",
    "  - edad\n",
    "  - posición que ocupa en la empresa\n",
    "  - año en que entró en la empresa\n",
    "  - número de días de vacaciones que tiene\n",
    "  - herramientas que usa cada uno de ellos, por ejemplo, Outlook, excel y word. Deberá ser una lista."
   ]
  },
  {
   "attachments": {},
   "cell_type": "markdown",
   "metadata": {},
   "source": [
    "- Cread una instancia para la clase creada\n",
    "- Definid los siguientes métodos:\n",
    "  - descripción\n",
    "  - calculo_vacaciones\n",
    "  - cambiando_posicion"
   ]
  },
  {
   "attachments": {},
   "cell_type": "markdown",
   "metadata": {},
   "source": [
    "TIPS PARA DEFINIR LOS MÉTODOS\n",
    "\n",
    "- Método descripcion:\n",
    "  \n",
    "El return deberá ser un string en el que aparezca el nombre, apellidos, los años que lleva en la empresa y los días de vacaciones que le quedan. Este método deberá devolver algo como esto:\n",
    "\n",
    "\n",
    "\"El/ella, es Lorena, Data Analyst, quien lleva con nostros en la empresa desde 2000. Además este año le quedan 15 dias de vacaciones\"\n",
    "\n",
    "\n",
    "- Método calculo_vacaciones:\n",
    "\n",
    "Deberá contener input que nos pregunte cuántos días te quieres ir de vacaciones.\n",
    "Luego deberemos restar el número de días que se fue de vacaciones a el número total de vacaciones que tiene ese empleado.\n",
    "- Una condición que chequee si:\n",
    "    - Si el numero de vacaciones que tiene el empleado es igual a 0, devolved un mensaje que diga que se le acabaron las vacaciones\n",
    "    - Si el número de días que se quiere ir de vacaciones es mayor que el número de vacaciones que le quedan, devolved un mensaje que diga que no se puede ir tantos de vacaciones\n",
    "    - En caso de que no se cumplan ninguna de estas condiciones, que nos devuelva el número de vacaciones que le quedan al empleado.\n",
    "\n",
    "- Método cambiando_posicion:\n",
    "  \n",
    "Iteraremos por la lista de herramientas que usa el empleado:\n",
    "    - Si el empleado usa \"Python\" devolveremos un mensaje de bien hecho!\n",
    "    - Si el empleado usa \"Excel\" le recomendaremos amigablemente que deje excel y empiece a usar Excel"
   ]
  }
 ],
 "metadata": {
  "kernelspec": {
   "display_name": "Python 3",
   "language": "python",
   "name": "python3"
  },
  "language_info": {
   "name": "python",
   "version": "3.9.13"
  },
  "orig_nbformat": 4,
  "vscode": {
   "interpreter": {
    "hash": "3a19f00f41f77a1ebaccda73eb3290ec65e6f87c37187114d21c22f44ded00c5"
   }
  }
 },
 "nbformat": 4,
 "nbformat_minor": 2
}
